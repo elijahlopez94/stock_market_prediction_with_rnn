{
 "cells": [
  {
   "cell_type": "code",
   "execution_count": 16,
   "metadata": {},
   "outputs": [],
   "source": [
    "# Standard Data Science Toolkit\n",
    "import pandas as pd\n",
    "import numpy as np\n",
    "import matplotlib.pyplot as plt; plt.style.use(\"ggplot\")\n",
    "%matplotlib inline\n",
    "import seaborn as sns\n",
    "\n",
    "# Machine Learning Preprocessing and Scoring Metrics\n",
    "from imblearn.over_sampling import SMOTE\n",
    "from sklearn.preprocessing import StandardScaler, MinMaxScaler\n",
    "from sklearn.decomposition import PCA\n",
    "from sklearn.discriminant_analysis import LinearDiscriminantAnalysis as LDA\n",
    "from sklearn.model_selection import train_test_split, StratifiedKFold, GridSearchCV, cross_val_score, RepeatedKFold, KFold\n",
    "from sklearn.metrics import classification_report, confusion_matrix, ConfusionMatrixDisplay, accuracy_score, f1_score, mean_squared_error, r2_score, explained_variance_score\n",
    "from sklearn.feature_selection import SelectFromModel\n",
    "from sklearn.compose import ColumnTransformer\n",
    "from sklearn.pipeline import Pipeline\n",
    "import time\n",
    "import psutil\n",
    "import os\n",
    "\n",
    "# Machine Learning Algorithms\n",
    "from sklearn.linear_model import LinearRegression, LogisticRegression, Ridge\n",
    "from sklearn.neighbors import KNeighborsClassifier, KNeighborsRegressor\n",
    "from sklearn.naive_bayes import GaussianNB\n",
    "from sklearn.tree import DecisionTreeClassifier, DecisionTreeRegressor\n",
    "from sklearn.ensemble import RandomForestClassifier, RandomForestRegressor, GradientBoostingClassifier, GradientBoostingRegressor\n",
    "from xgboost import XGBClassifier, XGBRegressor\n",
    "from sklearn.svm import SVC, SVR\n",
    "from tpot import TPOTClassifier\n",
    "\n",
    "# Deep Learning\n",
    "from tensorflow.keras.models import Sequential\n",
    "from tensorflow.keras.layers import Dense, Flatten, Conv2D, MaxPooling2D, Dropout, LSTM, GRU\n",
    "from tensorflow.keras.optimizers import Adam\n",
    "from tensorflow.keras.utils import to_categorical\n",
    "\n",
    "# Setup to Ignore Version Errors and Deprecations\n",
    "import warnings\n",
    "warnings.filterwarnings(\"ignore\")"
   ]
  },
  {
   "cell_type": "code",
   "execution_count": 45,
   "metadata": {},
   "outputs": [
    {
     "data": {
      "text/html": [
       "<div>\n",
       "<style scoped>\n",
       "    .dataframe tbody tr th:only-of-type {\n",
       "        vertical-align: middle;\n",
       "    }\n",
       "\n",
       "    .dataframe tbody tr th {\n",
       "        vertical-align: top;\n",
       "    }\n",
       "\n",
       "    .dataframe thead th {\n",
       "        text-align: right;\n",
       "    }\n",
       "</style>\n",
       "<table border=\"1\" class=\"dataframe\">\n",
       "  <thead>\n",
       "    <tr style=\"text-align: right;\">\n",
       "      <th></th>\n",
       "      <th>open</th>\n",
       "      <th>high</th>\n",
       "      <th>low</th>\n",
       "      <th>close</th>\n",
       "      <th>volume</th>\n",
       "      <th>interest_rate</th>\n",
       "      <th>gdp_growth</th>\n",
       "      <th>inflation_rate</th>\n",
       "      <th>unemployment_rate</th>\n",
       "      <th>consumer_sentiment</th>\n",
       "    </tr>\n",
       "    <tr>\n",
       "      <th>date</th>\n",
       "      <th></th>\n",
       "      <th></th>\n",
       "      <th></th>\n",
       "      <th></th>\n",
       "      <th></th>\n",
       "      <th></th>\n",
       "      <th></th>\n",
       "      <th></th>\n",
       "      <th></th>\n",
       "      <th></th>\n",
       "    </tr>\n",
       "  </thead>\n",
       "  <tbody>\n",
       "    <tr>\n",
       "      <th>2000-01-03</th>\n",
       "      <td>96.1875</td>\n",
       "      <td>96.1875</td>\n",
       "      <td>90.7500</td>\n",
       "      <td>94.75000</td>\n",
       "      <td>36345200</td>\n",
       "      <td>5.43</td>\n",
       "      <td>7.5</td>\n",
       "      <td>2.826171</td>\n",
       "      <td>4.1</td>\n",
       "      <td>111.3</td>\n",
       "    </tr>\n",
       "    <tr>\n",
       "      <th>2000-01-04</th>\n",
       "      <td>92.0000</td>\n",
       "      <td>93.5000</td>\n",
       "      <td>87.9375</td>\n",
       "      <td>88.25000</td>\n",
       "      <td>33786600</td>\n",
       "      <td>5.38</td>\n",
       "      <td>7.5</td>\n",
       "      <td>2.826171</td>\n",
       "      <td>4.1</td>\n",
       "      <td>111.3</td>\n",
       "    </tr>\n",
       "    <tr>\n",
       "      <th>2000-01-05</th>\n",
       "      <td>87.5000</td>\n",
       "      <td>89.6250</td>\n",
       "      <td>84.2500</td>\n",
       "      <td>86.00000</td>\n",
       "      <td>42496600</td>\n",
       "      <td>5.41</td>\n",
       "      <td>7.5</td>\n",
       "      <td>2.826171</td>\n",
       "      <td>4.1</td>\n",
       "      <td>111.3</td>\n",
       "    </tr>\n",
       "    <tr>\n",
       "      <th>2000-01-06</th>\n",
       "      <td>86.8750</td>\n",
       "      <td>88.0000</td>\n",
       "      <td>79.7500</td>\n",
       "      <td>80.09375</td>\n",
       "      <td>37134800</td>\n",
       "      <td>5.54</td>\n",
       "      <td>7.5</td>\n",
       "      <td>2.826171</td>\n",
       "      <td>4.1</td>\n",
       "      <td>111.3</td>\n",
       "    </tr>\n",
       "    <tr>\n",
       "      <th>2000-01-07</th>\n",
       "      <td>82.9375</td>\n",
       "      <td>90.0000</td>\n",
       "      <td>82.5000</td>\n",
       "      <td>90.00000</td>\n",
       "      <td>28138200</td>\n",
       "      <td>5.61</td>\n",
       "      <td>7.5</td>\n",
       "      <td>2.826171</td>\n",
       "      <td>4.1</td>\n",
       "      <td>111.3</td>\n",
       "    </tr>\n",
       "  </tbody>\n",
       "</table>\n",
       "</div>"
      ],
      "text/plain": [
       "               open     high      low     close    volume  interest_rate  \\\n",
       "date                                                                       \n",
       "2000-01-03  96.1875  96.1875  90.7500  94.75000  36345200           5.43   \n",
       "2000-01-04  92.0000  93.5000  87.9375  88.25000  33786600           5.38   \n",
       "2000-01-05  87.5000  89.6250  84.2500  86.00000  42496600           5.41   \n",
       "2000-01-06  86.8750  88.0000  79.7500  80.09375  37134800           5.54   \n",
       "2000-01-07  82.9375  90.0000  82.5000  90.00000  28138200           5.61   \n",
       "\n",
       "            gdp_growth  inflation_rate  unemployment_rate  consumer_sentiment  \n",
       "date                                                                           \n",
       "2000-01-03         7.5        2.826171                4.1               111.3  \n",
       "2000-01-04         7.5        2.826171                4.1               111.3  \n",
       "2000-01-05         7.5        2.826171                4.1               111.3  \n",
       "2000-01-06         7.5        2.826171                4.1               111.3  \n",
       "2000-01-07         7.5        2.826171                4.1               111.3  "
      ]
     },
     "execution_count": 45,
     "metadata": {},
     "output_type": "execute_result"
    }
   ],
   "source": [
    "df = pd.read_csv('data.csv', index_col='date', parse_dates=[\"date\"])\n",
    "df.drop(columns=['adj_close'], inplace=True)\n",
    "df.head()"
   ]
  },
  {
   "cell_type": "code",
   "execution_count": 57,
   "metadata": {},
   "outputs": [
    {
     "data": {
      "image/png": "[encoded data removed]",
      "text/plain": [
       "<Figure size 1000x600 with 1 Axes>"
      ]
     },
     "metadata": {},
     "output_type": "display_data"
    }
   ],
   "source": [
    "df['close']['2000-01-01':'2018-12-31'].plot(figsize=(10,6), legend=True)\n",
    "df['close']['2019-01-01':].plot(figsize=(10,6), legend=True)\n",
    "\n",
    "plt.legend([\"Training Dataset (2000-2018)\", \"Testing Dataset (2019-2023)\"])\n",
    "plt.title(\"Stock Price Trends for QQQ\")\n",
    "plt.show()"
   ]
  },
  {
   "cell_type": "code",
   "execution_count": 60,
   "metadata": {},
   "outputs": [
    {
     "data": {
      "text/html": [
       "<div>\n",
       "<style scoped>\n",
       "    .dataframe tbody tr th:only-of-type {\n",
       "        vertical-align: middle;\n",
       "    }\n",
       "\n",
       "    .dataframe tbody tr th {\n",
       "        vertical-align: top;\n",
       "    }\n",
       "\n",
       "    .dataframe thead th {\n",
       "        text-align: right;\n",
       "    }\n",
       "</style>\n",
       "<table border=\"1\" class=\"dataframe\">\n",
       "  <thead>\n",
       "    <tr style=\"text-align: right;\">\n",
       "      <th></th>\n",
       "      <th>open</th>\n",
       "      <th>high</th>\n",
       "      <th>low</th>\n",
       "      <th>close</th>\n",
       "      <th>volume</th>\n",
       "      <th>interest_rate</th>\n",
       "      <th>gdp_growth</th>\n",
       "      <th>inflation_rate</th>\n",
       "      <th>unemployment_rate</th>\n",
       "      <th>consumer_sentiment</th>\n",
       "    </tr>\n",
       "    <tr>\n",
       "      <th>date</th>\n",
       "      <th></th>\n",
       "      <th></th>\n",
       "      <th></th>\n",
       "      <th></th>\n",
       "      <th></th>\n",
       "      <th></th>\n",
       "      <th></th>\n",
       "      <th></th>\n",
       "      <th></th>\n",
       "      <th></th>\n",
       "    </tr>\n",
       "  </thead>\n",
       "  <tbody>\n",
       "    <tr>\n",
       "      <th>2000-01-03</th>\n",
       "      <td>96.1875</td>\n",
       "      <td>96.1875</td>\n",
       "      <td>90.7500</td>\n",
       "      <td>94.75000</td>\n",
       "      <td>36345200</td>\n",
       "      <td>5.43</td>\n",
       "      <td>7.5</td>\n",
       "      <td>2.826171</td>\n",
       "      <td>4.1</td>\n",
       "      <td>111.3</td>\n",
       "    </tr>\n",
       "    <tr>\n",
       "      <th>2000-01-04</th>\n",
       "      <td>92.0000</td>\n",
       "      <td>93.5000</td>\n",
       "      <td>87.9375</td>\n",
       "      <td>88.25000</td>\n",
       "      <td>33786600</td>\n",
       "      <td>5.38</td>\n",
       "      <td>7.5</td>\n",
       "      <td>2.826171</td>\n",
       "      <td>4.1</td>\n",
       "      <td>111.3</td>\n",
       "    </tr>\n",
       "    <tr>\n",
       "      <th>2000-01-05</th>\n",
       "      <td>87.5000</td>\n",
       "      <td>89.6250</td>\n",
       "      <td>84.2500</td>\n",
       "      <td>86.00000</td>\n",
       "      <td>42496600</td>\n",
       "      <td>5.41</td>\n",
       "      <td>7.5</td>\n",
       "      <td>2.826171</td>\n",
       "      <td>4.1</td>\n",
       "      <td>111.3</td>\n",
       "    </tr>\n",
       "    <tr>\n",
       "      <th>2000-01-06</th>\n",
       "      <td>86.8750</td>\n",
       "      <td>88.0000</td>\n",
       "      <td>79.7500</td>\n",
       "      <td>80.09375</td>\n",
       "      <td>37134800</td>\n",
       "      <td>5.54</td>\n",
       "      <td>7.5</td>\n",
       "      <td>2.826171</td>\n",
       "      <td>4.1</td>\n",
       "      <td>111.3</td>\n",
       "    </tr>\n",
       "    <tr>\n",
       "      <th>2000-01-07</th>\n",
       "      <td>82.9375</td>\n",
       "      <td>90.0000</td>\n",
       "      <td>82.5000</td>\n",
       "      <td>90.00000</td>\n",
       "      <td>28138200</td>\n",
       "      <td>5.61</td>\n",
       "      <td>7.5</td>\n",
       "      <td>2.826171</td>\n",
       "      <td>4.1</td>\n",
       "      <td>111.3</td>\n",
       "    </tr>\n",
       "  </tbody>\n",
       "</table>\n",
       "</div>"
      ],
      "text/plain": [
       "               open     high      low     close    volume  interest_rate  \\\n",
       "date                                                                       \n",
       "2000-01-03  96.1875  96.1875  90.7500  94.75000  36345200           5.43   \n",
       "2000-01-04  92.0000  93.5000  87.9375  88.25000  33786600           5.38   \n",
       "2000-01-05  87.5000  89.6250  84.2500  86.00000  42496600           5.41   \n",
       "2000-01-06  86.8750  88.0000  79.7500  80.09375  37134800           5.54   \n",
       "2000-01-07  82.9375  90.0000  82.5000  90.00000  28138200           5.61   \n",
       "\n",
       "            gdp_growth  inflation_rate  unemployment_rate  consumer_sentiment  \n",
       "date                                                                           \n",
       "2000-01-03         7.5        2.826171                4.1               111.3  \n",
       "2000-01-04         7.5        2.826171                4.1               111.3  \n",
       "2000-01-05         7.5        2.826171                4.1               111.3  \n",
       "2000-01-06         7.5        2.826171                4.1               111.3  \n",
       "2000-01-07         7.5        2.826171                4.1               111.3  "
      ]
     },
     "execution_count": 60,
     "metadata": {},
     "output_type": "execute_result"
    }
   ],
   "source": [
    "df.head()"
   ]
  },
  {
   "cell_type": "code",
   "execution_count": 61,
   "metadata": {},
   "outputs": [],
   "source": [
    "train = df['2000-01-01':'2018-12-31'].values\n",
    "test = df['2019-01-01':].values"
   ]
  },
  {
   "cell_type": "code",
   "execution_count": 64,
   "metadata": {},
   "outputs": [],
   "source": [
    "mm_scaler = MinMaxScaler(feature_range=(0,1))\n",
    "\n",
    "train_scaled = mm_scaler.fit_transform(train)"
   ]
  },
  {
   "cell_type": "code",
   "execution_count": 65,
   "metadata": {},
   "outputs": [
    {
     "data": {
      "text/plain": [
       "(4779, 10)"
      ]
     },
     "execution_count": 65,
     "metadata": {},
     "output_type": "execute_result"
    }
   ],
   "source": [
    "np.shape(train)"
   ]
  },
  {
   "cell_type": "code",
   "execution_count": 80,
   "metadata": {},
   "outputs": [],
   "source": [
    "X_train, y_train = list(), list()\n",
    "train_size = len(train_scaled)\n",
    "timesteps = 30\n",
    "\n",
    "for iteration in range(timesteps, train_size):\n",
    "    X_train.append(train_scaled[iteration - timesteps: iteration, :])\n",
    "    y_train.append(train_scaled[iteration, 3])\n",
    "\n",
    "X_train = np.array(X_train)\n",
    "y_train = np.array(y_train)"
   ]
  },
  {
   "cell_type": "code",
   "execution_count": 85,
   "metadata": {},
   "outputs": [
    {
     "data": {
      "text/plain": [
       "(4749, 30, 10)"
      ]
     },
     "execution_count": 85,
     "metadata": {},
     "output_type": "execute_result"
    }
   ],
   "source": [
    "X_train.shape"
   ]
  },
  {
   "cell_type": "code",
   "execution_count": 103,
   "metadata": {},
   "outputs": [],
   "source": [
    "# Scale all features (open, high, low, close, volume, etc.) for both train and test data\n",
    "scaler = MinMaxScaler(feature_range=(0, 1))\n",
    "\n",
    "# Fit and transform the scaler on the training data (train includes all features)\n",
    "train_scaled = scaler.fit_transform(train)\n",
    "\n",
    "# Transform the test data using the already fitted scaler\n",
    "test_scaled = scaler.transform(test)\n",
    "\n",
    "# Prepare the data for LSTM model (create sequences for both train and test)\n",
    "X_train, y_train = list(), list()\n",
    "X_test = list()\n",
    "\n",
    "# Prepare sequences for the training set\n",
    "for i in range(timesteps, len(train_scaled)):\n",
    "    X_train.append(train_scaled[i - timesteps:i, :])  # Use all features\n",
    "    y_train.append(train_scaled[i, 3])  # Target is the 'close' price, which is at index 3\n",
    "\n",
    "# Prepare sequences for the testing set\n",
    "for i in range(timesteps, len(test_scaled)):\n",
    "    X_test.append(test_scaled[i - timesteps:i, :])  # Use all features\n",
    "\n",
    "# Convert to numpy arrays\n",
    "X_train = np.array(X_train)\n",
    "y_train = np.array(y_train)\n",
    "X_test = np.array(X_test)\n",
    "\n",
    "# Reshape the data for LSTM (samples, timesteps, features)\n",
    "X_train = np.reshape(X_train, (X_train.shape[0], X_train.shape[1], X_train.shape[2]))\n",
    "X_test = np.reshape(X_test, (X_test.shape[0], X_test.shape[1], X_test.shape[2]))\n",
    "\n",
    "# Now your model can be trained on X_train and evaluated on X_test\n"
   ]
  },
  {
   "cell_type": "code",
   "execution_count": 104,
   "metadata": {},
   "outputs": [],
   "source": [
    "INPUT_RECURRENT_LAYER =   LSTM(50,\n",
    "                               return_sequences=True,\n",
    "                               input_shape=(30, 10))\n",
    "SECOND_RECURRENT_LAYER =  LSTM(50,\n",
    "                               return_sequences=True)\n",
    "THIRD_RECURRENT_LAYER =   LSTM(50,\n",
    "                               return_sequences=True)\n",
    "FOURTH_RECURRENT_LAYER =  LSTM(50)\n",
    "\n",
    "# Four dropout regularization layers\n",
    "FIRST_DROPOUT_LAYER =     Dropout(0.2)\n",
    "SECOND_DROPOUT_LAYER =    Dropout(0.2)\n",
    "THIRD_DROPOUT_LAYER =     Dropout(0.2)\n",
    "FOURTH_DROPOUT_LAYER =    Dropout(0.2)\n",
    "\n",
    "# One dense connective layer for prediction output\n",
    "OUTPUT_CONNECTIVE_LAYER = Dense(1)"
   ]
  },
  {
   "cell_type": "code",
   "execution_count": 105,
   "metadata": {},
   "outputs": [
    {
     "name": "stdout",
     "output_type": "stream",
     "text": [
      "Model: \"sequential_2\"\n",
      "_________________________________________________________________\n",
      " Layer (type)                Output Shape              Param #   \n",
      "=================================================================\n",
      " lstm_8 (LSTM)               (None, 30, 50)            12200     \n",
      "                                                                 \n",
      " dropout_8 (Dropout)         (None, 30, 50)            0         \n",
      "                                                                 \n",
      " lstm_9 (LSTM)               (None, 30, 50)            20200     \n",
      "                                                                 \n",
      " dropout_9 (Dropout)         (None, 30, 50)            0         \n",
      "                                                                 \n",
      " lstm_10 (LSTM)              (None, 30, 50)            20200     \n",
      "                                                                 \n",
      " dropout_10 (Dropout)        (None, 30, 50)            0         \n",
      "                                                                 \n",
      " lstm_11 (LSTM)              (None, 50)                20200     \n",
      "                                                                 \n",
      " dropout_11 (Dropout)        (None, 50)                0         \n",
      "                                                                 \n",
      " dense_2 (Dense)             (None, 1)                 51        \n",
      "                                                                 \n",
      "=================================================================\n",
      "Total params: 72,851\n",
      "Trainable params: 72,851\n",
      "Non-trainable params: 0\n",
      "_________________________________________________________________\n"
     ]
    }
   ],
   "source": [
    "model = Sequential()\n",
    "\n",
    "model.add(INPUT_RECURRENT_LAYER)\n",
    "model.add(FIRST_DROPOUT_LAYER)\n",
    "model.add(SECOND_RECURRENT_LAYER)\n",
    "model.add(SECOND_DROPOUT_LAYER)\n",
    "model.add(THIRD_RECURRENT_LAYER)\n",
    "model.add(THIRD_DROPOUT_LAYER)\n",
    "model.add(FOURTH_RECURRENT_LAYER)\n",
    "model.add(FOURTH_DROPOUT_LAYER)\n",
    "model.add(OUTPUT_CONNECTIVE_LAYER)\n",
    "\n",
    "model.summary()"
   ]
  },
  {
   "cell_type": "code",
   "execution_count": 106,
   "metadata": {},
   "outputs": [],
   "source": [
    "model.compile(optimizer=\"rmsprop\",\n",
    "              loss=\"mean_squared_error\")"
   ]
  },
  {
   "cell_type": "code",
   "execution_count": 107,
   "metadata": {},
   "outputs": [
    {
     "name": "stdout",
     "output_type": "stream",
     "text": [
      "Epoch 1/10\n",
      "149/149 [==============================] - 33s 114ms/step - loss: 0.0076\n",
      "Epoch 2/10\n",
      "149/149 [==============================] - 19s 126ms/step - loss: 0.0036\n",
      "Epoch 3/10\n",
      "149/149 [==============================] - 20s 135ms/step - loss: 0.0028\n",
      "Epoch 4/10\n",
      "149/149 [==============================] - 16s 107ms/step - loss: 0.0024\n",
      "Epoch 5/10\n",
      "149/149 [==============================] - 16s 108ms/step - loss: 0.0022\n",
      "Epoch 6/10\n",
      "149/149 [==============================] - 16s 107ms/step - loss: 0.0018\n",
      "Epoch 7/10\n",
      "149/149 [==============================] - 15s 102ms/step - loss: 0.0017\n",
      "Epoch 8/10\n",
      "149/149 [==============================] - 15s 103ms/step - loss: 0.0015\n",
      "Epoch 9/10\n",
      "149/149 [==============================] - 16s 104ms/step - loss: 0.0015\n",
      "Epoch 10/10\n",
      "149/149 [==============================] - 16s 105ms/step - loss: 0.0014\n"
     ]
    }
   ],
   "source": [
    "history = model.fit(X_train, y_train,\n",
    "                    epochs=10, batch_size=32,\n",
    "                    verbose=True)"
   ]
  },
  {
   "cell_type": "code",
   "execution_count": 110,
   "metadata": {},
   "outputs": [
    {
     "name": "stdout",
     "output_type": "stream",
     "text": [
      "39/39 [==============================] - 1s 30ms/step\n"
     ]
    }
   ],
   "source": [
    "# Make predictions on the test set\n",
    "predictions = model.predict(X_test)\n",
    "\n",
    "# Concatenate zeros for the non-target features (9 features), so the shape matches the original data (10 columns in total)\n",
    "# Ensure predictions are reshaped to be in the correct shape for concatenation\n",
    "predictions_reshaped = np.concatenate((np.zeros((predictions.shape[0], 9)), predictions), axis=1)\n",
    "\n",
    "# Use inverse_transform with the reshaped predictions\n",
    "predictions_rescaled = mm_scaler.inverse_transform(predictions_reshaped)[:, -1]\n"
   ]
  },
  {
   "cell_type": "code",
   "execution_count": 113,
   "metadata": {},
   "outputs": [],
   "source": [
    "# Ensure y_test is a NumPy array and reshape it to be 2D\n",
    "y_test = y_test.values.reshape(-1, 1)  # Convert Series to NumPy array and reshape\n",
    "\n",
    "# Concatenate zeros for the non-target features (9 features)\n",
    "y_test_reshaped = np.concatenate((np.zeros((y_test.shape[0], 9)), y_test), axis=1)\n",
    "\n",
    "# Use inverse_transform with the reshaped y_test values\n",
    "y_test_rescaled = mm_scaler.inverse_transform(y_test_reshaped)[:, -1]\n"
   ]
  },
  {
   "cell_type": "code",
   "execution_count": 114,
   "metadata": {},
   "outputs": [
    {
     "name": "stdout",
     "output_type": "stream",
     "text": [
      "39/39 [==============================] - 1s 30ms/step\n"
     ]
    }
   ],
   "source": [
    "# Make predictions\n",
    "predictions = model.predict(X_test)\n"
   ]
  },
  {
   "cell_type": "code",
   "execution_count": 115,
   "metadata": {},
   "outputs": [],
   "source": [
    "# Reshape predictions to match the scaler's expected input shape\n",
    "predictions_reshaped = np.concatenate((np.zeros((predictions.shape[0], 9)), predictions), axis=1)\n",
    "\n",
    "# Inverse transform the predictions\n",
    "predictions_rescaled = mm_scaler.inverse_transform(predictions_reshaped)[:, -1]\n"
   ]
  },
  {
   "cell_type": "code",
   "execution_count": 117,
   "metadata": {},
   "outputs": [
    {
     "ename": "ValueError",
     "evalue": "Found input variables with inconsistent numbers of samples: [1812, 1228]",
     "output_type": "error",
     "traceback": [
      "\u001b[1;31m---------------------------------------------------------------------------\u001b[0m",
      "\u001b[1;31mValueError\u001b[0m                                Traceback (most recent call last)",
      "Cell \u001b[1;32mIn[117], line 4\u001b[0m\n\u001b[0;32m      1\u001b[0m \u001b[38;5;28;01mfrom\u001b[39;00m \u001b[38;5;21;01msklearn\u001b[39;00m\u001b[38;5;21;01m.\u001b[39;00m\u001b[38;5;21;01mmetrics\u001b[39;00m \u001b[38;5;28;01mimport\u001b[39;00m mean_squared_error, r2_score\n\u001b[0;32m      3\u001b[0m \u001b[38;5;66;03m# Calculate Mean Squared Error (MSE)\u001b[39;00m\n\u001b[1;32m----> 4\u001b[0m mse \u001b[38;5;241m=\u001b[39m \u001b[43mmean_squared_error\u001b[49m\u001b[43m(\u001b[49m\u001b[43my_test_rescaled\u001b[49m\u001b[43m,\u001b[49m\u001b[43m \u001b[49m\u001b[43mpredictions_rescaled\u001b[49m\u001b[43m)\u001b[49m\n\u001b[0;32m      5\u001b[0m \u001b[38;5;28mprint\u001b[39m(\u001b[38;5;124mf\u001b[39m\u001b[38;5;124m'\u001b[39m\u001b[38;5;124mMean Squared Error (MSE): \u001b[39m\u001b[38;5;132;01m{\u001b[39;00mmse\u001b[38;5;132;01m}\u001b[39;00m\u001b[38;5;124m'\u001b[39m)\n\u001b[0;32m      7\u001b[0m \u001b[38;5;66;03m# Calculate Root Mean Squared Error (RMSE)\u001b[39;00m\n",
      "File \u001b[1;32mc:\\Users\\Elija\\anaconda3\\envs\\Cohort_Env\\lib\\site-packages\\sklearn\\utils\\_param_validation.py:211\u001b[0m, in \u001b[0;36mvalidate_params.<locals>.decorator.<locals>.wrapper\u001b[1;34m(*args, **kwargs)\u001b[0m\n\u001b[0;32m    205\u001b[0m \u001b[38;5;28;01mtry\u001b[39;00m:\n\u001b[0;32m    206\u001b[0m     \u001b[38;5;28;01mwith\u001b[39;00m config_context(\n\u001b[0;32m    207\u001b[0m         skip_parameter_validation\u001b[38;5;241m=\u001b[39m(\n\u001b[0;32m    208\u001b[0m             prefer_skip_nested_validation \u001b[38;5;129;01mor\u001b[39;00m global_skip_validation\n\u001b[0;32m    209\u001b[0m         )\n\u001b[0;32m    210\u001b[0m     ):\n\u001b[1;32m--> 211\u001b[0m         \u001b[38;5;28;01mreturn\u001b[39;00m \u001b[43mfunc\u001b[49m\u001b[43m(\u001b[49m\u001b[38;5;241;43m*\u001b[39;49m\u001b[43margs\u001b[49m\u001b[43m,\u001b[49m\u001b[43m \u001b[49m\u001b[38;5;241;43m*\u001b[39;49m\u001b[38;5;241;43m*\u001b[39;49m\u001b[43mkwargs\u001b[49m\u001b[43m)\u001b[49m\n\u001b[0;32m    212\u001b[0m \u001b[38;5;28;01mexcept\u001b[39;00m InvalidParameterError \u001b[38;5;28;01mas\u001b[39;00m e:\n\u001b[0;32m    213\u001b[0m     \u001b[38;5;66;03m# When the function is just a wrapper around an estimator, we allow\u001b[39;00m\n\u001b[0;32m    214\u001b[0m     \u001b[38;5;66;03m# the function to delegate validation to the estimator, but we replace\u001b[39;00m\n\u001b[0;32m    215\u001b[0m     \u001b[38;5;66;03m# the name of the estimator by the name of the function in the error\u001b[39;00m\n\u001b[0;32m    216\u001b[0m     \u001b[38;5;66;03m# message to avoid confusion.\u001b[39;00m\n\u001b[0;32m    217\u001b[0m     msg \u001b[38;5;241m=\u001b[39m re\u001b[38;5;241m.\u001b[39msub(\n\u001b[0;32m    218\u001b[0m         \u001b[38;5;124mr\u001b[39m\u001b[38;5;124m\"\u001b[39m\u001b[38;5;124mparameter of \u001b[39m\u001b[38;5;124m\\\u001b[39m\u001b[38;5;124mw+ must be\u001b[39m\u001b[38;5;124m\"\u001b[39m,\n\u001b[0;32m    219\u001b[0m         \u001b[38;5;124mf\u001b[39m\u001b[38;5;124m\"\u001b[39m\u001b[38;5;124mparameter of \u001b[39m\u001b[38;5;132;01m{\u001b[39;00mfunc\u001b[38;5;241m.\u001b[39m\u001b[38;5;18m__qualname__\u001b[39m\u001b[38;5;132;01m}\u001b[39;00m\u001b[38;5;124m must be\u001b[39m\u001b[38;5;124m\"\u001b[39m,\n\u001b[0;32m    220\u001b[0m         \u001b[38;5;28mstr\u001b[39m(e),\n\u001b[0;32m    221\u001b[0m     )\n",
      "File \u001b[1;32mc:\\Users\\Elija\\anaconda3\\envs\\Cohort_Env\\lib\\site-packages\\sklearn\\metrics\\_regression.py:474\u001b[0m, in \u001b[0;36mmean_squared_error\u001b[1;34m(y_true, y_pred, sample_weight, multioutput, squared)\u001b[0m\n\u001b[0;32m    404\u001b[0m \u001b[38;5;129m@validate_params\u001b[39m(\n\u001b[0;32m    405\u001b[0m     {\n\u001b[0;32m    406\u001b[0m         \u001b[38;5;124m\"\u001b[39m\u001b[38;5;124my_true\u001b[39m\u001b[38;5;124m\"\u001b[39m: [\u001b[38;5;124m\"\u001b[39m\u001b[38;5;124marray-like\u001b[39m\u001b[38;5;124m\"\u001b[39m],\n\u001b[1;32m   (...)\u001b[0m\n\u001b[0;32m    415\u001b[0m     y_true, y_pred, \u001b[38;5;241m*\u001b[39m, sample_weight\u001b[38;5;241m=\u001b[39m\u001b[38;5;28;01mNone\u001b[39;00m, multioutput\u001b[38;5;241m=\u001b[39m\u001b[38;5;124m\"\u001b[39m\u001b[38;5;124muniform_average\u001b[39m\u001b[38;5;124m\"\u001b[39m, squared\u001b[38;5;241m=\u001b[39m\u001b[38;5;28;01mTrue\u001b[39;00m\n\u001b[0;32m    416\u001b[0m ):\n\u001b[0;32m    417\u001b[0m \u001b[38;5;250m    \u001b[39m\u001b[38;5;124;03m\"\"\"Mean squared error regression loss.\u001b[39;00m\n\u001b[0;32m    418\u001b[0m \n\u001b[0;32m    419\u001b[0m \u001b[38;5;124;03m    Read more in the :ref:`User Guide <mean_squared_error>`.\u001b[39;00m\n\u001b[1;32m   (...)\u001b[0m\n\u001b[0;32m    472\u001b[0m \u001b[38;5;124;03m    0.825...\u001b[39;00m\n\u001b[0;32m    473\u001b[0m \u001b[38;5;124;03m    \"\"\"\u001b[39;00m\n\u001b[1;32m--> 474\u001b[0m     y_type, y_true, y_pred, multioutput \u001b[38;5;241m=\u001b[39m \u001b[43m_check_reg_targets\u001b[49m\u001b[43m(\u001b[49m\n\u001b[0;32m    475\u001b[0m \u001b[43m        \u001b[49m\u001b[43my_true\u001b[49m\u001b[43m,\u001b[49m\u001b[43m \u001b[49m\u001b[43my_pred\u001b[49m\u001b[43m,\u001b[49m\u001b[43m \u001b[49m\u001b[43mmultioutput\u001b[49m\n\u001b[0;32m    476\u001b[0m \u001b[43m    \u001b[49m\u001b[43m)\u001b[49m\n\u001b[0;32m    477\u001b[0m     check_consistent_length(y_true, y_pred, sample_weight)\n\u001b[0;32m    478\u001b[0m     output_errors \u001b[38;5;241m=\u001b[39m np\u001b[38;5;241m.\u001b[39maverage((y_true \u001b[38;5;241m-\u001b[39m y_pred) \u001b[38;5;241m*\u001b[39m\u001b[38;5;241m*\u001b[39m \u001b[38;5;241m2\u001b[39m, axis\u001b[38;5;241m=\u001b[39m\u001b[38;5;241m0\u001b[39m, weights\u001b[38;5;241m=\u001b[39msample_weight)\n",
      "File \u001b[1;32mc:\\Users\\Elija\\anaconda3\\envs\\Cohort_Env\\lib\\site-packages\\sklearn\\metrics\\_regression.py:99\u001b[0m, in \u001b[0;36m_check_reg_targets\u001b[1;34m(y_true, y_pred, multioutput, dtype)\u001b[0m\n\u001b[0;32m     65\u001b[0m \u001b[38;5;28;01mdef\u001b[39;00m \u001b[38;5;21m_check_reg_targets\u001b[39m(y_true, y_pred, multioutput, dtype\u001b[38;5;241m=\u001b[39m\u001b[38;5;124m\"\u001b[39m\u001b[38;5;124mnumeric\u001b[39m\u001b[38;5;124m\"\u001b[39m):\n\u001b[0;32m     66\u001b[0m \u001b[38;5;250m    \u001b[39m\u001b[38;5;124;03m\"\"\"Check that y_true and y_pred belong to the same regression task.\u001b[39;00m\n\u001b[0;32m     67\u001b[0m \n\u001b[0;32m     68\u001b[0m \u001b[38;5;124;03m    Parameters\u001b[39;00m\n\u001b[1;32m   (...)\u001b[0m\n\u001b[0;32m     97\u001b[0m \u001b[38;5;124;03m        correct keyword.\u001b[39;00m\n\u001b[0;32m     98\u001b[0m \u001b[38;5;124;03m    \"\"\"\u001b[39;00m\n\u001b[1;32m---> 99\u001b[0m     \u001b[43mcheck_consistent_length\u001b[49m\u001b[43m(\u001b[49m\u001b[43my_true\u001b[49m\u001b[43m,\u001b[49m\u001b[43m \u001b[49m\u001b[43my_pred\u001b[49m\u001b[43m)\u001b[49m\n\u001b[0;32m    100\u001b[0m     y_true \u001b[38;5;241m=\u001b[39m check_array(y_true, ensure_2d\u001b[38;5;241m=\u001b[39m\u001b[38;5;28;01mFalse\u001b[39;00m, dtype\u001b[38;5;241m=\u001b[39mdtype)\n\u001b[0;32m    101\u001b[0m     y_pred \u001b[38;5;241m=\u001b[39m check_array(y_pred, ensure_2d\u001b[38;5;241m=\u001b[39m\u001b[38;5;28;01mFalse\u001b[39;00m, dtype\u001b[38;5;241m=\u001b[39mdtype)\n",
      "File \u001b[1;32mc:\\Users\\Elija\\anaconda3\\envs\\Cohort_Env\\lib\\site-packages\\sklearn\\utils\\validation.py:409\u001b[0m, in \u001b[0;36mcheck_consistent_length\u001b[1;34m(*arrays)\u001b[0m\n\u001b[0;32m    407\u001b[0m uniques \u001b[38;5;241m=\u001b[39m np\u001b[38;5;241m.\u001b[39munique(lengths)\n\u001b[0;32m    408\u001b[0m \u001b[38;5;28;01mif\u001b[39;00m \u001b[38;5;28mlen\u001b[39m(uniques) \u001b[38;5;241m>\u001b[39m \u001b[38;5;241m1\u001b[39m:\n\u001b[1;32m--> 409\u001b[0m     \u001b[38;5;28;01mraise\u001b[39;00m \u001b[38;5;167;01mValueError\u001b[39;00m(\n\u001b[0;32m    410\u001b[0m         \u001b[38;5;124m\"\u001b[39m\u001b[38;5;124mFound input variables with inconsistent numbers of samples: \u001b[39m\u001b[38;5;132;01m%r\u001b[39;00m\u001b[38;5;124m\"\u001b[39m\n\u001b[0;32m    411\u001b[0m         \u001b[38;5;241m%\u001b[39m [\u001b[38;5;28mint\u001b[39m(l) \u001b[38;5;28;01mfor\u001b[39;00m l \u001b[38;5;129;01min\u001b[39;00m lengths]\n\u001b[0;32m    412\u001b[0m     )\n",
      "\u001b[1;31mValueError\u001b[0m: Found input variables with inconsistent numbers of samples: [1812, 1228]"
     ]
    }
   ],
   "source": [
    "from sklearn.metrics import mean_squared_error, r2_score\n",
    "\n",
    "# Calculate Mean Squared Error (MSE)\n",
    "mse = mean_squared_error(y_test_rescaled, predictions_rescaled)\n",
    "print(f'Mean Squared Error (MSE): {mse}')\n",
    "\n",
    "# Calculate Root Mean Squared Error (RMSE)\n",
    "rmse = np.sqrt(mse)\n",
    "print(f'Root Mean Squared Error (RMSE): {rmse}')\n",
    "\n",
    "# Calculate R-squared\n",
    "r2 = r2_score(y_test_rescaled, predictions_rescaled)\n",
    "print(f'R-squared: {r2}')\n"
   ]
  },
  {
   "cell_type": "code",
   "execution_count": null,
   "metadata": {},
   "outputs": [],
   "source": []
  },
  {
   "cell_type": "code",
   "execution_count": null,
   "metadata": {},
   "outputs": [],
   "source": []
  },
  {
   "cell_type": "code",
   "execution_count": null,
   "metadata": {},
   "outputs": [],
   "source": []
  },
  {
   "cell_type": "code",
   "execution_count": null,
   "metadata": {},
   "outputs": [],
   "source": []
  },
  {
   "cell_type": "code",
   "execution_count": 98,
   "metadata": {},
   "outputs": [
    {
     "ename": "ValueError",
     "evalue": "X has 1 features, but MinMaxScaler is expecting 10 features as input.",
     "output_type": "error",
     "traceback": [
      "\u001b[1;31m---------------------------------------------------------------------------\u001b[0m",
      "\u001b[1;31mValueError\u001b[0m                                Traceback (most recent call last)",
      "Cell \u001b[1;32mIn[98], line 7\u001b[0m\n\u001b[0;32m      5\u001b[0m testing_values \u001b[38;5;241m=\u001b[39m target[\u001b[38;5;28mlen\u001b[39m(target) \u001b[38;5;241m-\u001b[39m \u001b[38;5;28mlen\u001b[39m(test) \u001b[38;5;241m-\u001b[39m timesteps:]\u001b[38;5;241m.\u001b[39mvalues\n\u001b[0;32m      6\u001b[0m testing_values \u001b[38;5;241m=\u001b[39m testing_values\u001b[38;5;241m.\u001b[39mreshape(\u001b[38;5;241m-\u001b[39m\u001b[38;5;241m1\u001b[39m, \u001b[38;5;241m1\u001b[39m)  \u001b[38;5;66;03m# Reshape the values for scaling\u001b[39;00m\n\u001b[1;32m----> 7\u001b[0m testing_values \u001b[38;5;241m=\u001b[39m \u001b[43mmm_scaler\u001b[49m\u001b[38;5;241;43m.\u001b[39;49m\u001b[43mtransform\u001b[49m\u001b[43m(\u001b[49m\u001b[43mtesting_values\u001b[49m\u001b[43m)\u001b[49m  \u001b[38;5;66;03m# Apply the same scaling as training data\u001b[39;00m\n\u001b[0;32m      9\u001b[0m \u001b[38;5;66;03m# Prepare the sequences for test data (X_test)\u001b[39;00m\n\u001b[0;32m     10\u001b[0m X_test \u001b[38;5;241m=\u001b[39m \u001b[38;5;28mlist\u001b[39m()\n",
      "File \u001b[1;32mc:\\Users\\Elija\\anaconda3\\envs\\Cohort_Env\\lib\\site-packages\\sklearn\\utils\\_set_output.py:140\u001b[0m, in \u001b[0;36m_wrap_method_output.<locals>.wrapped\u001b[1;34m(self, X, *args, **kwargs)\u001b[0m\n\u001b[0;32m    138\u001b[0m \u001b[38;5;129m@wraps\u001b[39m(f)\n\u001b[0;32m    139\u001b[0m \u001b[38;5;28;01mdef\u001b[39;00m \u001b[38;5;21mwrapped\u001b[39m(\u001b[38;5;28mself\u001b[39m, X, \u001b[38;5;241m*\u001b[39margs, \u001b[38;5;241m*\u001b[39m\u001b[38;5;241m*\u001b[39mkwargs):\n\u001b[1;32m--> 140\u001b[0m     data_to_wrap \u001b[38;5;241m=\u001b[39m \u001b[43mf\u001b[49m\u001b[43m(\u001b[49m\u001b[38;5;28;43mself\u001b[39;49m\u001b[43m,\u001b[49m\u001b[43m \u001b[49m\u001b[43mX\u001b[49m\u001b[43m,\u001b[49m\u001b[43m \u001b[49m\u001b[38;5;241;43m*\u001b[39;49m\u001b[43margs\u001b[49m\u001b[43m,\u001b[49m\u001b[43m \u001b[49m\u001b[38;5;241;43m*\u001b[39;49m\u001b[38;5;241;43m*\u001b[39;49m\u001b[43mkwargs\u001b[49m\u001b[43m)\u001b[49m\n\u001b[0;32m    141\u001b[0m     \u001b[38;5;28;01mif\u001b[39;00m \u001b[38;5;28misinstance\u001b[39m(data_to_wrap, \u001b[38;5;28mtuple\u001b[39m):\n\u001b[0;32m    142\u001b[0m         \u001b[38;5;66;03m# only wrap the first output for cross decomposition\u001b[39;00m\n\u001b[0;32m    143\u001b[0m         return_tuple \u001b[38;5;241m=\u001b[39m (\n\u001b[0;32m    144\u001b[0m             _wrap_data_with_container(method, data_to_wrap[\u001b[38;5;241m0\u001b[39m], X, \u001b[38;5;28mself\u001b[39m),\n\u001b[0;32m    145\u001b[0m             \u001b[38;5;241m*\u001b[39mdata_to_wrap[\u001b[38;5;241m1\u001b[39m:],\n\u001b[0;32m    146\u001b[0m         )\n",
      "File \u001b[1;32mc:\\Users\\Elija\\anaconda3\\envs\\Cohort_Env\\lib\\site-packages\\sklearn\\preprocessing\\_data.py:514\u001b[0m, in \u001b[0;36mMinMaxScaler.transform\u001b[1;34m(self, X)\u001b[0m\n\u001b[0;32m    500\u001b[0m \u001b[38;5;250m\u001b[39m\u001b[38;5;124;03m\"\"\"Scale features of X according to feature_range.\u001b[39;00m\n\u001b[0;32m    501\u001b[0m \n\u001b[0;32m    502\u001b[0m \u001b[38;5;124;03mParameters\u001b[39;00m\n\u001b[1;32m   (...)\u001b[0m\n\u001b[0;32m    510\u001b[0m \u001b[38;5;124;03m    Transformed data.\u001b[39;00m\n\u001b[0;32m    511\u001b[0m \u001b[38;5;124;03m\"\"\"\u001b[39;00m\n\u001b[0;32m    512\u001b[0m check_is_fitted(\u001b[38;5;28mself\u001b[39m)\n\u001b[1;32m--> 514\u001b[0m X \u001b[38;5;241m=\u001b[39m \u001b[38;5;28;43mself\u001b[39;49m\u001b[38;5;241;43m.\u001b[39;49m\u001b[43m_validate_data\u001b[49m\u001b[43m(\u001b[49m\n\u001b[0;32m    515\u001b[0m \u001b[43m    \u001b[49m\u001b[43mX\u001b[49m\u001b[43m,\u001b[49m\n\u001b[0;32m    516\u001b[0m \u001b[43m    \u001b[49m\u001b[43mcopy\u001b[49m\u001b[38;5;241;43m=\u001b[39;49m\u001b[38;5;28;43mself\u001b[39;49m\u001b[38;5;241;43m.\u001b[39;49m\u001b[43mcopy\u001b[49m\u001b[43m,\u001b[49m\n\u001b[0;32m    517\u001b[0m \u001b[43m    \u001b[49m\u001b[43mdtype\u001b[49m\u001b[38;5;241;43m=\u001b[39;49m\u001b[43mFLOAT_DTYPES\u001b[49m\u001b[43m,\u001b[49m\n\u001b[0;32m    518\u001b[0m \u001b[43m    \u001b[49m\u001b[43mforce_all_finite\u001b[49m\u001b[38;5;241;43m=\u001b[39;49m\u001b[38;5;124;43m\"\u001b[39;49m\u001b[38;5;124;43mallow-nan\u001b[39;49m\u001b[38;5;124;43m\"\u001b[39;49m\u001b[43m,\u001b[49m\n\u001b[0;32m    519\u001b[0m \u001b[43m    \u001b[49m\u001b[43mreset\u001b[49m\u001b[38;5;241;43m=\u001b[39;49m\u001b[38;5;28;43;01mFalse\u001b[39;49;00m\u001b[43m,\u001b[49m\n\u001b[0;32m    520\u001b[0m \u001b[43m\u001b[49m\u001b[43m)\u001b[49m\n\u001b[0;32m    522\u001b[0m X \u001b[38;5;241m*\u001b[39m\u001b[38;5;241m=\u001b[39m \u001b[38;5;28mself\u001b[39m\u001b[38;5;241m.\u001b[39mscale_\n\u001b[0;32m    523\u001b[0m X \u001b[38;5;241m+\u001b[39m\u001b[38;5;241m=\u001b[39m \u001b[38;5;28mself\u001b[39m\u001b[38;5;241m.\u001b[39mmin_\n",
      "File \u001b[1;32mc:\\Users\\Elija\\anaconda3\\envs\\Cohort_Env\\lib\\site-packages\\sklearn\\base.py:625\u001b[0m, in \u001b[0;36mBaseEstimator._validate_data\u001b[1;34m(self, X, y, reset, validate_separately, cast_to_ndarray, **check_params)\u001b[0m\n\u001b[0;32m    622\u001b[0m     out \u001b[38;5;241m=\u001b[39m X, y\n\u001b[0;32m    624\u001b[0m \u001b[38;5;28;01mif\u001b[39;00m \u001b[38;5;129;01mnot\u001b[39;00m no_val_X \u001b[38;5;129;01mand\u001b[39;00m check_params\u001b[38;5;241m.\u001b[39mget(\u001b[38;5;124m\"\u001b[39m\u001b[38;5;124mensure_2d\u001b[39m\u001b[38;5;124m\"\u001b[39m, \u001b[38;5;28;01mTrue\u001b[39;00m):\n\u001b[1;32m--> 625\u001b[0m     \u001b[38;5;28;43mself\u001b[39;49m\u001b[38;5;241;43m.\u001b[39;49m\u001b[43m_check_n_features\u001b[49m\u001b[43m(\u001b[49m\u001b[43mX\u001b[49m\u001b[43m,\u001b[49m\u001b[43m \u001b[49m\u001b[43mreset\u001b[49m\u001b[38;5;241;43m=\u001b[39;49m\u001b[43mreset\u001b[49m\u001b[43m)\u001b[49m\n\u001b[0;32m    627\u001b[0m \u001b[38;5;28;01mreturn\u001b[39;00m out\n",
      "File \u001b[1;32mc:\\Users\\Elija\\anaconda3\\envs\\Cohort_Env\\lib\\site-packages\\sklearn\\base.py:414\u001b[0m, in \u001b[0;36mBaseEstimator._check_n_features\u001b[1;34m(self, X, reset)\u001b[0m\n\u001b[0;32m    411\u001b[0m     \u001b[38;5;28;01mreturn\u001b[39;00m\n\u001b[0;32m    413\u001b[0m \u001b[38;5;28;01mif\u001b[39;00m n_features \u001b[38;5;241m!=\u001b[39m \u001b[38;5;28mself\u001b[39m\u001b[38;5;241m.\u001b[39mn_features_in_:\n\u001b[1;32m--> 414\u001b[0m     \u001b[38;5;28;01mraise\u001b[39;00m \u001b[38;5;167;01mValueError\u001b[39;00m(\n\u001b[0;32m    415\u001b[0m         \u001b[38;5;124mf\u001b[39m\u001b[38;5;124m\"\u001b[39m\u001b[38;5;124mX has \u001b[39m\u001b[38;5;132;01m{\u001b[39;00mn_features\u001b[38;5;132;01m}\u001b[39;00m\u001b[38;5;124m features, but \u001b[39m\u001b[38;5;132;01m{\u001b[39;00m\u001b[38;5;28mself\u001b[39m\u001b[38;5;241m.\u001b[39m\u001b[38;5;18m__class__\u001b[39m\u001b[38;5;241m.\u001b[39m\u001b[38;5;18m__name__\u001b[39m\u001b[38;5;132;01m}\u001b[39;00m\u001b[38;5;124m \u001b[39m\u001b[38;5;124m\"\u001b[39m\n\u001b[0;32m    416\u001b[0m         \u001b[38;5;124mf\u001b[39m\u001b[38;5;124m\"\u001b[39m\u001b[38;5;124mis expecting \u001b[39m\u001b[38;5;132;01m{\u001b[39;00m\u001b[38;5;28mself\u001b[39m\u001b[38;5;241m.\u001b[39mn_features_in_\u001b[38;5;132;01m}\u001b[39;00m\u001b[38;5;124m features as input.\u001b[39m\u001b[38;5;124m\"\u001b[39m\n\u001b[0;32m    417\u001b[0m     )\n",
      "\u001b[1;31mValueError\u001b[0m: X has 1 features, but MinMaxScaler is expecting 10 features as input."
     ]
    }
   ],
   "source": [
    "# Get target data for both train and test periods\n",
    "target = pd.concat((df['close']['2000-01-01':'2018-12-31'], df['close']['2019-01-01':]), axis=0)\n",
    "\n",
    "# Prepare testing data from the target\n",
    "testing_values = target[len(target) - len(test) - timesteps:].values\n",
    "testing_values = testing_values.reshape(-1, 1)  # Reshape the values for scaling\n",
    "testing_values = mm_scaler.transform(testing_values)  # Apply the same scaling as training data\n",
    "\n",
    "# Prepare the sequences for test data (X_test)\n",
    "X_test = list()\n",
    "for i in range(timesteps, len(testing_values)):\n",
    "    X_test.append(testing_values[i - timesteps:i, 0])  # Use the last 'timesteps' data points\n",
    "\n",
    "X_test = np.array(X_test)  # Convert to numpy array\n",
    "\n",
    "# Reshape the data for LSTM (samples, timesteps, features)\n",
    "X_test = np.reshape(X_test, (X_test.shape[0], X_test.shape[1], 1))\n",
    "\n",
    "# Make predictions using the trained model\n",
    "predictions = model.predict(X_test)\n",
    "\n",
    "# Inverse transform the predicted values back to the original scale\n",
    "predictions = mm_scaler.inverse_transform(predictions)\n"
   ]
  },
  {
   "cell_type": "code",
   "execution_count": null,
   "metadata": {},
   "outputs": [],
   "source": []
  },
  {
   "cell_type": "code",
   "execution_count": null,
   "metadata": {},
   "outputs": [],
   "source": [
    "train = df['2000-01-01':'2018-12-31'].values\n",
    "test = df['2019-01-01':].values"
   ]
  },
  {
   "cell_type": "code",
   "execution_count": null,
   "metadata": {},
   "outputs": [],
   "source": []
  },
  {
   "cell_type": "markdown",
   "metadata": {},
   "source": [
    "___"
   ]
  },
  {
   "cell_type": "markdown",
   "metadata": {},
   "source": [
    "### Classical ML"
   ]
  },
  {
   "cell_type": "code",
   "execution_count": 48,
   "metadata": {},
   "outputs": [
    {
     "data": {
      "text/html": [
       "<div>\n",
       "<style scoped>\n",
       "    .dataframe tbody tr th:only-of-type {\n",
       "        vertical-align: middle;\n",
       "    }\n",
       "\n",
       "    .dataframe tbody tr th {\n",
       "        vertical-align: top;\n",
       "    }\n",
       "\n",
       "    .dataframe thead th {\n",
       "        text-align: right;\n",
       "    }\n",
       "</style>\n",
       "<table border=\"1\" class=\"dataframe\">\n",
       "  <thead>\n",
       "    <tr style=\"text-align: right;\">\n",
       "      <th></th>\n",
       "      <th>open</th>\n",
       "      <th>close</th>\n",
       "      <th>volume</th>\n",
       "      <th>interest_rate</th>\n",
       "      <th>gdp_growth</th>\n",
       "      <th>inflation_rate</th>\n",
       "      <th>unemployment_rate</th>\n",
       "      <th>consumer_sentiment</th>\n",
       "    </tr>\n",
       "    <tr>\n",
       "      <th>date</th>\n",
       "      <th></th>\n",
       "      <th></th>\n",
       "      <th></th>\n",
       "      <th></th>\n",
       "      <th></th>\n",
       "      <th></th>\n",
       "      <th></th>\n",
       "      <th></th>\n",
       "    </tr>\n",
       "  </thead>\n",
       "  <tbody>\n",
       "    <tr>\n",
       "      <th>2000-01-03</th>\n",
       "      <td>96.1875</td>\n",
       "      <td>94.75000</td>\n",
       "      <td>36345200</td>\n",
       "      <td>5.43</td>\n",
       "      <td>7.5</td>\n",
       "      <td>2.826171</td>\n",
       "      <td>4.1</td>\n",
       "      <td>111.3</td>\n",
       "    </tr>\n",
       "    <tr>\n",
       "      <th>2000-01-04</th>\n",
       "      <td>92.0000</td>\n",
       "      <td>88.25000</td>\n",
       "      <td>33786600</td>\n",
       "      <td>5.38</td>\n",
       "      <td>7.5</td>\n",
       "      <td>2.826171</td>\n",
       "      <td>4.1</td>\n",
       "      <td>111.3</td>\n",
       "    </tr>\n",
       "    <tr>\n",
       "      <th>2000-01-05</th>\n",
       "      <td>87.5000</td>\n",
       "      <td>86.00000</td>\n",
       "      <td>42496600</td>\n",
       "      <td>5.41</td>\n",
       "      <td>7.5</td>\n",
       "      <td>2.826171</td>\n",
       "      <td>4.1</td>\n",
       "      <td>111.3</td>\n",
       "    </tr>\n",
       "    <tr>\n",
       "      <th>2000-01-06</th>\n",
       "      <td>86.8750</td>\n",
       "      <td>80.09375</td>\n",
       "      <td>37134800</td>\n",
       "      <td>5.54</td>\n",
       "      <td>7.5</td>\n",
       "      <td>2.826171</td>\n",
       "      <td>4.1</td>\n",
       "      <td>111.3</td>\n",
       "    </tr>\n",
       "    <tr>\n",
       "      <th>2000-01-07</th>\n",
       "      <td>82.9375</td>\n",
       "      <td>90.00000</td>\n",
       "      <td>28138200</td>\n",
       "      <td>5.61</td>\n",
       "      <td>7.5</td>\n",
       "      <td>2.826171</td>\n",
       "      <td>4.1</td>\n",
       "      <td>111.3</td>\n",
       "    </tr>\n",
       "  </tbody>\n",
       "</table>\n",
       "</div>"
      ],
      "text/plain": [
       "               open     close    volume  interest_rate  gdp_growth  \\\n",
       "date                                                                 \n",
       "2000-01-03  96.1875  94.75000  36345200           5.43         7.5   \n",
       "2000-01-04  92.0000  88.25000  33786600           5.38         7.5   \n",
       "2000-01-05  87.5000  86.00000  42496600           5.41         7.5   \n",
       "2000-01-06  86.8750  80.09375  37134800           5.54         7.5   \n",
       "2000-01-07  82.9375  90.00000  28138200           5.61         7.5   \n",
       "\n",
       "            inflation_rate  unemployment_rate  consumer_sentiment  \n",
       "date                                                               \n",
       "2000-01-03        2.826171                4.1               111.3  \n",
       "2000-01-04        2.826171                4.1               111.3  \n",
       "2000-01-05        2.826171                4.1               111.3  \n",
       "2000-01-06        2.826171                4.1               111.3  \n",
       "2000-01-07        2.826171                4.1               111.3  "
      ]
     },
     "execution_count": 48,
     "metadata": {},
     "output_type": "execute_result"
    }
   ],
   "source": [
    "test_df = df.copy()\n",
    "test_df = test_df.drop(columns=['high', 'low'])\n",
    "test_df.head()"
   ]
  },
  {
   "cell_type": "code",
   "execution_count": 50,
   "metadata": {},
   "outputs": [],
   "source": [
    "X, y = test_df.drop(columns=['close']), test_df['close']"
   ]
  },
  {
   "cell_type": "code",
   "execution_count": null,
   "metadata": {},
   "outputs": [],
   "source": [
    "# Closing price will be target value. Dropped adj close as it does not make sense as a predictor.\n",
    "# X, y = df.drop(columns=['high', 'low', 'close', 'adj_close']), df['close']"
   ]
  },
  {
   "cell_type": "code",
   "execution_count": 51,
   "metadata": {},
   "outputs": [],
   "source": [
    "X_train, X_test, y_train, y_test = train_test_split(X, y,\n",
    "                                                    train_size=0.7,\n",
    "                                                    test_size=0.3,\n",
    "                                                    random_state=42)"
   ]
  },
  {
   "cell_type": "code",
   "execution_count": 38,
   "metadata": {},
   "outputs": [],
   "source": [
    "def test_regression_models(X_train, y_train):\n",
    "    # Adjustments\n",
    "    CV = 10\n",
    "    SCORING = 'neg_mean_squared_error' \n",
    "    \n",
    "    # Define the models to be tested\n",
    "    models = {\n",
    "        \"Linear Regression\": LinearRegression(),\n",
    "        \"K-Nearest Neighbors\": KNeighborsRegressor(),\n",
    "        \"Decision Tree\": DecisionTreeRegressor(random_state=42),\n",
    "        \"Random Forest\": RandomForestRegressor(random_state=42),\n",
    "        \"Gradient Boosting\": GradientBoostingRegressor(random_state=42),\n",
    "        \"XGBoost\": XGBRegressor(random_state=42),\n",
    "        \"Support Vector Regressor\": SVR()\n",
    "    }\n",
    "    \n",
    "    # Initialize results dictionary to store metrics for each model\n",
    "    results = {\n",
    "        \"Model\": [],\n",
    "        \"Mean Squared Error\": [],\n",
    "        \"Spread (std)\": [],\n",
    "        \"Train Time (s)\": [],\n",
    "        \"Memory Usage (MB)\": []\n",
    "    }\n",
    "    \n",
    "    # Perform model evaluation for each model\n",
    "    for model_name, model in models.items():\n",
    "        # Measure training time\n",
    "        start_train_time = time.time()\n",
    "\n",
    "        # Perform k-fold cross-validation to evaluate the model on the training data\n",
    "        cv_scores = cross_val_score(model, X_train, y_train, cv=CV, scoring=SCORING)\n",
    "\n",
    "        end_train_time = time.time()\n",
    "        train_time = end_train_time - start_train_time\n",
    "\n",
    "        # Measure memory usage (in MB)\n",
    "        memory_usage = psutil.Process(os.getpid()).memory_info().rss / (1024 * 1024)\n",
    "        \n",
    "        # Convert MSE scores to positive values\n",
    "        mse_scores = -cv_scores\n",
    "\n",
    "        # Store the metrics in the results dictionary\n",
    "        results[\"Model\"].append(model_name)\n",
    "        results[\"Mean Squared Error\"].append(round(np.mean(mse_scores), 4))\n",
    "        results[\"Spread (std)\"].append(round(np.std(mse_scores), 4))\n",
    "        results[\"Train Time (s)\"].append(round(train_time, 4))\n",
    "        results[\"Memory Usage (MB)\"].append(round(memory_usage, 0))\n",
    "        \n",
    "    # Create a DataFrame to display the results\n",
    "    results_df = pd.DataFrame(results)\n",
    "    \n",
    "    # Print the results\n",
    "    return results_df\n"
   ]
  },
  {
   "cell_type": "code",
   "execution_count": 39,
   "metadata": {},
   "outputs": [
    {
     "data": {
      "text/html": [
       "<div>\n",
       "<style scoped>\n",
       "    .dataframe tbody tr th:only-of-type {\n",
       "        vertical-align: middle;\n",
       "    }\n",
       "\n",
       "    .dataframe tbody tr th {\n",
       "        vertical-align: top;\n",
       "    }\n",
       "\n",
       "    .dataframe thead th {\n",
       "        text-align: right;\n",
       "    }\n",
       "</style>\n",
       "<table border=\"1\" class=\"dataframe\">\n",
       "  <thead>\n",
       "    <tr style=\"text-align: right;\">\n",
       "      <th></th>\n",
       "      <th>Model</th>\n",
       "      <th>Mean Squared Error</th>\n",
       "      <th>Spread (std)</th>\n",
       "      <th>Train Time (s)</th>\n",
       "      <th>Memory Usage (MB)</th>\n",
       "    </tr>\n",
       "  </thead>\n",
       "  <tbody>\n",
       "    <tr>\n",
       "      <th>0</th>\n",
       "      <td>Linear Regression</td>\n",
       "      <td>3.4189</td>\n",
       "      <td>0.6624</td>\n",
       "      <td>0.0858</td>\n",
       "      <td>174.0</td>\n",
       "    </tr>\n",
       "    <tr>\n",
       "      <th>1</th>\n",
       "      <td>K-Nearest Neighbors</td>\n",
       "      <td>10331.0880</td>\n",
       "      <td>950.1741</td>\n",
       "      <td>0.1458</td>\n",
       "      <td>174.0</td>\n",
       "    </tr>\n",
       "    <tr>\n",
       "      <th>2</th>\n",
       "      <td>Decision Tree</td>\n",
       "      <td>7.3420</td>\n",
       "      <td>1.3792</td>\n",
       "      <td>0.8008</td>\n",
       "      <td>174.0</td>\n",
       "    </tr>\n",
       "    <tr>\n",
       "      <th>3</th>\n",
       "      <td>Random Forest</td>\n",
       "      <td>4.0990</td>\n",
       "      <td>0.6826</td>\n",
       "      <td>63.5419</td>\n",
       "      <td>168.0</td>\n",
       "    </tr>\n",
       "    <tr>\n",
       "      <th>4</th>\n",
       "      <td>Gradient Boosting</td>\n",
       "      <td>3.9976</td>\n",
       "      <td>0.6586</td>\n",
       "      <td>15.6533</td>\n",
       "      <td>169.0</td>\n",
       "    </tr>\n",
       "    <tr>\n",
       "      <th>5</th>\n",
       "      <td>XGBoost</td>\n",
       "      <td>5.0725</td>\n",
       "      <td>0.9339</td>\n",
       "      <td>2.3402</td>\n",
       "      <td>183.0</td>\n",
       "    </tr>\n",
       "    <tr>\n",
       "      <th>6</th>\n",
       "      <td>Support Vector Regressor</td>\n",
       "      <td>10779.2422</td>\n",
       "      <td>1137.4130</td>\n",
       "      <td>15.5269</td>\n",
       "      <td>203.0</td>\n",
       "    </tr>\n",
       "  </tbody>\n",
       "</table>\n",
       "</div>"
      ],
      "text/plain": [
       "                      Model  Mean Squared Error  Spread (std)  Train Time (s)  \\\n",
       "0         Linear Regression              3.4189        0.6624          0.0858   \n",
       "1       K-Nearest Neighbors          10331.0880      950.1741          0.1458   \n",
       "2             Decision Tree              7.3420        1.3792          0.8008   \n",
       "3             Random Forest              4.0990        0.6826         63.5419   \n",
       "4         Gradient Boosting              3.9976        0.6586         15.6533   \n",
       "5                   XGBoost              5.0725        0.9339          2.3402   \n",
       "6  Support Vector Regressor          10779.2422     1137.4130         15.5269   \n",
       "\n",
       "   Memory Usage (MB)  \n",
       "0              174.0  \n",
       "1              174.0  \n",
       "2              174.0  \n",
       "3              168.0  \n",
       "4              169.0  \n",
       "5              183.0  \n",
       "6              203.0  "
      ]
     },
     "execution_count": 39,
     "metadata": {},
     "output_type": "execute_result"
    }
   ],
   "source": [
    "test_regression_models(X_train, y_train)"
   ]
  },
  {
   "cell_type": "markdown",
   "metadata": {},
   "source": [
    "Linear Regression is the top performin model with Random Forest coming second."
   ]
  },
  {
   "cell_type": "code",
   "execution_count": 52,
   "metadata": {},
   "outputs": [
    {
     "name": "stdout",
     "output_type": "stream",
     "text": [
      "MSE: 3.5344\n",
      "R²: 0.9996\n"
     ]
    }
   ],
   "source": [
    "lr_model = LinearRegression()\n",
    "lr_model.fit(X_train, y_train)\n",
    "\n",
    "y_pred = lr_model.predict(X_test)\n",
    "\n",
    "mse = mean_squared_error(y_test, y_pred)\n",
    "r2 = r2_score(y_test, y_pred)\n",
    "\n",
    "print(f'MSE: {mse:.4f}')\n",
    "print(f'R²: {r2:.4f}')"
   ]
  },
  {
   "cell_type": "markdown",
   "metadata": {},
   "source": [
    "___"
   ]
  }
 ],
 "metadata": {
  "kernelspec": {
   "display_name": "Cohort_Env",
   "language": "python",
   "name": "python3"
  },
  "language_info": {
   "codemirror_mode": {
    "name": "ipython",
    "version": 3
   },
   "file_extension": ".py",
   "mimetype": "text/x-python",
   "name": "python",
   "nbconvert_exporter": "python",
   "pygments_lexer": "ipython3",
   "version": "3.8.15"
  }
 },
 "nbformat": 4,
 "nbformat_minor": 2
}
